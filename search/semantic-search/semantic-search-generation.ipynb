{
  "cells": [
    {
      "attachments": {},
      "cell_type": "markdown",
      "metadata": {
        "id": "W390nLBmZlId"
      },
      "source": [
        "[![Open In Colab](https://colab.research.google.com/assets/colab-badge.svg)](https://colab.research.google.com/github/pinecone-io/examples/blob/master/search/semantic-search/semantic-search.ipynb) [![Open nbviewer](https://raw.githubusercontent.com/pinecone-io/examples/master/assets/nbviewer-shield.svg)](https://nbviewer.org/github/pinecone-io/examples/blob/master/search/semantic-search/semantic-search.ipynb)\n",
        "\n",
        "# Semantic Search\n",
        "\n",
        "[![Open nbviewer](https://raw.githubusercontent.com/pinecone-io/examples/master/assets/fast-link.svg)](https://colab.research.google.com/github/pinecone-io/examples/blob/master/search/semantic-search/semantic-search-fast.ipynb)\n",
        "\n",
        "In this walkthrough we will see how to use Pinecone for semantic search. To begin we must install the required prerequisite libraries:"
      ]
    },
    {
      "cell_type": "code",
      "execution_count": 1,
      "metadata": {
        "id": "q03L1BYEZQfe"
      },
      "outputs": [
        {
          "name": "stdout",
          "output_type": "stream",
          "text": [
            "Collecting pinecone-datasets==0.5.0rc5\n",
            "  Downloading pinecone_datasets-0.5.0rc5-py3-none-any.whl (12 kB)\n",
            "Requirement already satisfied: datasets==2.12.0 in /Users/roymiara/Pinecone/examples/.venv/lib/python3.9/site-packages (2.12.0)\n",
            "Requirement already satisfied: sentence-transformers==2.2.2 in /Users/roymiara/Pinecone/examples/.venv/lib/python3.9/site-packages (2.2.2)\n",
            "Requirement already satisfied: fsspec<2024.0.0,>=2023.1.0 in /Users/roymiara/Pinecone/examples/.venv/lib/python3.9/site-packages (from pinecone-datasets==0.5.0rc5) (2023.5.0)\n",
            "Requirement already satisfied: gcsfs<2024.0.0,>=2023.1.0 in /Users/roymiara/Pinecone/examples/.venv/lib/python3.9/site-packages (from pinecone-datasets==0.5.0rc5) (2023.5.0)\n",
            "Requirement already satisfied: pandas<3.0.0,>=2.0.0 in /Users/roymiara/Pinecone/examples/.venv/lib/python3.9/site-packages (from pinecone-datasets==0.5.0rc5) (2.0.2)\n",
            "Requirement already satisfied: pinecone-client==3.0.0rc2 in /Users/roymiara/Pinecone/examples/.venv/lib/python3.9/site-packages (from pinecone-datasets==0.5.0rc5) (3.0.0rc2)\n",
            "Requirement already satisfied: polars<0.17.0,>=0.16.4 in /Users/roymiara/Pinecone/examples/.venv/lib/python3.9/site-packages (from pinecone-datasets==0.5.0rc5) (0.16.18)\n",
            "Requirement already satisfied: protobuf<3.20.0,>=3.19.3 in /Users/roymiara/Pinecone/examples/.venv/lib/python3.9/site-packages (from pinecone-datasets==0.5.0rc5) (3.19.6)\n",
            "Requirement already satisfied: pyarrow<13.0.0,>=12.0.0 in /Users/roymiara/Pinecone/examples/.venv/lib/python3.9/site-packages (from pinecone-datasets==0.5.0rc5) (12.0.0)\n",
            "Requirement already satisfied: pydantic<2.0.0,>=1.10.5 in /Users/roymiara/Pinecone/examples/.venv/lib/python3.9/site-packages (from pinecone-datasets==0.5.0rc5) (1.10.9)\n",
            "Requirement already satisfied: s3fs<2024.0.0,>=2023.1.0 in /Users/roymiara/Pinecone/examples/.venv/lib/python3.9/site-packages (from pinecone-datasets==0.5.0rc5) (2023.5.0)\n",
            "Requirement already satisfied: numpy>=1.17 in /Users/roymiara/Pinecone/examples/.venv/lib/python3.9/site-packages (from datasets==2.12.0) (1.24.3)\n",
            "Requirement already satisfied: dill<0.3.7,>=0.3.0 in /Users/roymiara/Pinecone/examples/.venv/lib/python3.9/site-packages (from datasets==2.12.0) (0.3.6)\n",
            "Requirement already satisfied: requests>=2.19.0 in /Users/roymiara/Pinecone/examples/.venv/lib/python3.9/site-packages (from datasets==2.12.0) (2.31.0)\n",
            "Requirement already satisfied: tqdm>=4.62.1 in /Users/roymiara/Pinecone/examples/.venv/lib/python3.9/site-packages (from datasets==2.12.0) (4.65.0)\n",
            "Requirement already satisfied: xxhash in /Users/roymiara/Pinecone/examples/.venv/lib/python3.9/site-packages (from datasets==2.12.0) (3.2.0)\n",
            "Requirement already satisfied: multiprocess in /Users/roymiara/Pinecone/examples/.venv/lib/python3.9/site-packages (from datasets==2.12.0) (0.70.14)\n",
            "Requirement already satisfied: aiohttp in /Users/roymiara/Pinecone/examples/.venv/lib/python3.9/site-packages (from datasets==2.12.0) (3.8.4)\n",
            "Requirement already satisfied: huggingface-hub<1.0.0,>=0.11.0 in /Users/roymiara/Pinecone/examples/.venv/lib/python3.9/site-packages (from datasets==2.12.0) (0.15.1)\n",
            "Requirement already satisfied: packaging in /Users/roymiara/Pinecone/examples/.venv/lib/python3.9/site-packages (from datasets==2.12.0) (23.1)\n",
            "Requirement already satisfied: responses<0.19 in /Users/roymiara/Pinecone/examples/.venv/lib/python3.9/site-packages (from datasets==2.12.0) (0.18.0)\n",
            "Requirement already satisfied: pyyaml>=5.1 in /Users/roymiara/Pinecone/examples/.venv/lib/python3.9/site-packages (from datasets==2.12.0) (6.0)\n",
            "Requirement already satisfied: transformers<5.0.0,>=4.6.0 in /Users/roymiara/Pinecone/examples/.venv/lib/python3.9/site-packages (from sentence-transformers==2.2.2) (4.30.1)\n",
            "Requirement already satisfied: torch>=1.6.0 in /Users/roymiara/Pinecone/examples/.venv/lib/python3.9/site-packages (from sentence-transformers==2.2.2) (2.0.1)\n",
            "Requirement already satisfied: torchvision in /Users/roymiara/Pinecone/examples/.venv/lib/python3.9/site-packages (from sentence-transformers==2.2.2) (0.15.2)\n",
            "Requirement already satisfied: scikit-learn in /Users/roymiara/Pinecone/examples/.venv/lib/python3.9/site-packages (from sentence-transformers==2.2.2) (1.2.2)\n",
            "Requirement already satisfied: scipy in /Users/roymiara/Pinecone/examples/.venv/lib/python3.9/site-packages (from sentence-transformers==2.2.2) (1.10.1)\n",
            "Requirement already satisfied: nltk in /Users/roymiara/Pinecone/examples/.venv/lib/python3.9/site-packages (from sentence-transformers==2.2.2) (3.8.1)\n",
            "Requirement already satisfied: sentencepiece in /Users/roymiara/Pinecone/examples/.venv/lib/python3.9/site-packages (from sentence-transformers==2.2.2) (0.1.99)\n",
            "Requirement already satisfied: attrs>=17.3.0 in /Users/roymiara/Pinecone/examples/.venv/lib/python3.9/site-packages (from aiohttp->datasets==2.12.0) (23.1.0)\n",
            "Requirement already satisfied: charset-normalizer<4.0,>=2.0 in /Users/roymiara/Pinecone/examples/.venv/lib/python3.9/site-packages (from aiohttp->datasets==2.12.0) (3.1.0)\n",
            "Requirement already satisfied: multidict<7.0,>=4.5 in /Users/roymiara/Pinecone/examples/.venv/lib/python3.9/site-packages (from aiohttp->datasets==2.12.0) (6.0.4)\n",
            "Requirement already satisfied: async-timeout<5.0,>=4.0.0a3 in /Users/roymiara/Pinecone/examples/.venv/lib/python3.9/site-packages (from aiohttp->datasets==2.12.0) (4.0.2)\n",
            "Requirement already satisfied: yarl<2.0,>=1.0 in /Users/roymiara/Pinecone/examples/.venv/lib/python3.9/site-packages (from aiohttp->datasets==2.12.0) (1.9.2)\n",
            "Requirement already satisfied: frozenlist>=1.1.1 in /Users/roymiara/Pinecone/examples/.venv/lib/python3.9/site-packages (from aiohttp->datasets==2.12.0) (1.3.3)\n",
            "Requirement already satisfied: aiosignal>=1.1.2 in /Users/roymiara/Pinecone/examples/.venv/lib/python3.9/site-packages (from aiohttp->datasets==2.12.0) (1.3.1)\n",
            "Requirement already satisfied: decorator>4.1.2 in /Users/roymiara/Pinecone/examples/.venv/lib/python3.9/site-packages (from gcsfs<2024.0.0,>=2023.1.0->pinecone-datasets==0.5.0rc5) (5.1.1)\n",
            "Requirement already satisfied: google-auth>=1.2 in /Users/roymiara/Pinecone/examples/.venv/lib/python3.9/site-packages (from gcsfs<2024.0.0,>=2023.1.0->pinecone-datasets==0.5.0rc5) (2.19.1)\n",
            "Requirement already satisfied: google-auth-oauthlib in /Users/roymiara/Pinecone/examples/.venv/lib/python3.9/site-packages (from gcsfs<2024.0.0,>=2023.1.0->pinecone-datasets==0.5.0rc5) (1.0.0)\n",
            "Requirement already satisfied: google-cloud-storage in /Users/roymiara/Pinecone/examples/.venv/lib/python3.9/site-packages (from gcsfs<2024.0.0,>=2023.1.0->pinecone-datasets==0.5.0rc5) (2.9.0)\n",
            "Requirement already satisfied: filelock in /Users/roymiara/Pinecone/examples/.venv/lib/python3.9/site-packages (from huggingface-hub<1.0.0,>=0.11.0->datasets==2.12.0) (3.12.1)\n",
            "Requirement already satisfied: typing-extensions>=3.7.4.3 in /Users/roymiara/Pinecone/examples/.venv/lib/python3.9/site-packages (from huggingface-hub<1.0.0,>=0.11.0->datasets==2.12.0) (4.6.3)\n",
            "Requirement already satisfied: python-dateutil>=2.8.2 in /Users/roymiara/Pinecone/examples/.venv/lib/python3.9/site-packages (from pandas<3.0.0,>=2.0.0->pinecone-datasets==0.5.0rc5) (2.8.2)\n",
            "Requirement already satisfied: pytz>=2020.1 in /Users/roymiara/Pinecone/examples/.venv/lib/python3.9/site-packages (from pandas<3.0.0,>=2.0.0->pinecone-datasets==0.5.0rc5) (2023.3)\n",
            "Requirement already satisfied: tzdata>=2022.1 in /Users/roymiara/Pinecone/examples/.venv/lib/python3.9/site-packages (from pandas<3.0.0,>=2.0.0->pinecone-datasets==0.5.0rc5) (2023.3)\n",
            "Requirement already satisfied: idna<4,>=2.5 in /Users/roymiara/Pinecone/examples/.venv/lib/python3.9/site-packages (from requests>=2.19.0->datasets==2.12.0) (3.4)\n",
            "Requirement already satisfied: urllib3<3,>=1.21.1 in /Users/roymiara/Pinecone/examples/.venv/lib/python3.9/site-packages (from requests>=2.19.0->datasets==2.12.0) (1.26.16)\n",
            "Requirement already satisfied: certifi>=2017.4.17 in /Users/roymiara/Pinecone/examples/.venv/lib/python3.9/site-packages (from requests>=2.19.0->datasets==2.12.0) (2023.5.7)\n",
            "Requirement already satisfied: aiobotocore~=2.5.0 in /Users/roymiara/Pinecone/examples/.venv/lib/python3.9/site-packages (from s3fs<2024.0.0,>=2023.1.0->pinecone-datasets==0.5.0rc5) (2.5.0)\n",
            "Requirement already satisfied: sympy in /Users/roymiara/Pinecone/examples/.venv/lib/python3.9/site-packages (from torch>=1.6.0->sentence-transformers==2.2.2) (1.12)\n",
            "Requirement already satisfied: networkx in /Users/roymiara/Pinecone/examples/.venv/lib/python3.9/site-packages (from torch>=1.6.0->sentence-transformers==2.2.2) (3.1)\n",
            "Requirement already satisfied: jinja2 in /Users/roymiara/Pinecone/examples/.venv/lib/python3.9/site-packages (from torch>=1.6.0->sentence-transformers==2.2.2) (3.1.2)\n",
            "Requirement already satisfied: regex!=2019.12.17 in /Users/roymiara/Pinecone/examples/.venv/lib/python3.9/site-packages (from transformers<5.0.0,>=4.6.0->sentence-transformers==2.2.2) (2023.6.3)\n",
            "Requirement already satisfied: tokenizers!=0.11.3,<0.14,>=0.11.1 in /Users/roymiara/Pinecone/examples/.venv/lib/python3.9/site-packages (from transformers<5.0.0,>=4.6.0->sentence-transformers==2.2.2) (0.13.3)\n",
            "Requirement already satisfied: safetensors>=0.3.1 in /Users/roymiara/Pinecone/examples/.venv/lib/python3.9/site-packages (from transformers<5.0.0,>=4.6.0->sentence-transformers==2.2.2) (0.3.1)\n",
            "Requirement already satisfied: click in /Users/roymiara/Pinecone/examples/.venv/lib/python3.9/site-packages (from nltk->sentence-transformers==2.2.2) (8.1.3)\n",
            "Requirement already satisfied: joblib in /Users/roymiara/Pinecone/examples/.venv/lib/python3.9/site-packages (from nltk->sentence-transformers==2.2.2) (1.2.0)\n",
            "Requirement already satisfied: threadpoolctl>=2.0.0 in /Users/roymiara/Pinecone/examples/.venv/lib/python3.9/site-packages (from scikit-learn->sentence-transformers==2.2.2) (3.1.0)\n",
            "Requirement already satisfied: pillow!=8.3.*,>=5.3.0 in /Users/roymiara/Pinecone/examples/.venv/lib/python3.9/site-packages (from torchvision->sentence-transformers==2.2.2) (9.5.0)\n",
            "Requirement already satisfied: botocore<1.29.77,>=1.29.76 in /Users/roymiara/Pinecone/examples/.venv/lib/python3.9/site-packages (from aiobotocore~=2.5.0->s3fs<2024.0.0,>=2023.1.0->pinecone-datasets==0.5.0rc5) (1.29.76)\n",
            "Requirement already satisfied: wrapt>=1.10.10 in /Users/roymiara/Pinecone/examples/.venv/lib/python3.9/site-packages (from aiobotocore~=2.5.0->s3fs<2024.0.0,>=2023.1.0->pinecone-datasets==0.5.0rc5) (1.15.0)\n",
            "Requirement already satisfied: aioitertools>=0.5.1 in /Users/roymiara/Pinecone/examples/.venv/lib/python3.9/site-packages (from aiobotocore~=2.5.0->s3fs<2024.0.0,>=2023.1.0->pinecone-datasets==0.5.0rc5) (0.11.0)\n",
            "Requirement already satisfied: cachetools<6.0,>=2.0.0 in /Users/roymiara/Pinecone/examples/.venv/lib/python3.9/site-packages (from google-auth>=1.2->gcsfs<2024.0.0,>=2023.1.0->pinecone-datasets==0.5.0rc5) (5.3.1)\n",
            "Requirement already satisfied: pyasn1-modules>=0.2.1 in /Users/roymiara/Pinecone/examples/.venv/lib/python3.9/site-packages (from google-auth>=1.2->gcsfs<2024.0.0,>=2023.1.0->pinecone-datasets==0.5.0rc5) (0.3.0)\n",
            "Requirement already satisfied: rsa<5,>=3.1.4 in /Users/roymiara/Pinecone/examples/.venv/lib/python3.9/site-packages (from google-auth>=1.2->gcsfs<2024.0.0,>=2023.1.0->pinecone-datasets==0.5.0rc5) (4.9)\n",
            "Requirement already satisfied: six>=1.9.0 in /Users/roymiara/Pinecone/examples/.venv/lib/python3.9/site-packages (from google-auth>=1.2->gcsfs<2024.0.0,>=2023.1.0->pinecone-datasets==0.5.0rc5) (1.16.0)\n",
            "Requirement already satisfied: requests-oauthlib>=0.7.0 in /Users/roymiara/Pinecone/examples/.venv/lib/python3.9/site-packages (from google-auth-oauthlib->gcsfs<2024.0.0,>=2023.1.0->pinecone-datasets==0.5.0rc5) (1.3.1)\n",
            "Requirement already satisfied: google-api-core!=2.0.*,!=2.1.*,!=2.2.*,!=2.3.0,<3.0.0dev,>=1.31.5 in /Users/roymiara/Pinecone/examples/.venv/lib/python3.9/site-packages (from google-cloud-storage->gcsfs<2024.0.0,>=2023.1.0->pinecone-datasets==0.5.0rc5) (2.11.0)\n",
            "Requirement already satisfied: google-cloud-core<3.0dev,>=2.3.0 in /Users/roymiara/Pinecone/examples/.venv/lib/python3.9/site-packages (from google-cloud-storage->gcsfs<2024.0.0,>=2023.1.0->pinecone-datasets==0.5.0rc5) (2.3.2)\n",
            "Requirement already satisfied: google-resumable-media>=2.3.2 in /Users/roymiara/Pinecone/examples/.venv/lib/python3.9/site-packages (from google-cloud-storage->gcsfs<2024.0.0,>=2023.1.0->pinecone-datasets==0.5.0rc5) (2.5.0)\n",
            "Requirement already satisfied: MarkupSafe>=2.0 in /Users/roymiara/Pinecone/examples/.venv/lib/python3.9/site-packages (from jinja2->torch>=1.6.0->sentence-transformers==2.2.2) (2.1.3)\n",
            "Requirement already satisfied: mpmath>=0.19 in /Users/roymiara/Pinecone/examples/.venv/lib/python3.9/site-packages (from sympy->torch>=1.6.0->sentence-transformers==2.2.2) (1.3.0)\n",
            "Requirement already satisfied: jmespath<2.0.0,>=0.7.1 in /Users/roymiara/Pinecone/examples/.venv/lib/python3.9/site-packages (from botocore<1.29.77,>=1.29.76->aiobotocore~=2.5.0->s3fs<2024.0.0,>=2023.1.0->pinecone-datasets==0.5.0rc5) (1.0.1)\n",
            "Requirement already satisfied: googleapis-common-protos<2.0dev,>=1.56.2 in /Users/roymiara/Pinecone/examples/.venv/lib/python3.9/site-packages (from google-api-core!=2.0.*,!=2.1.*,!=2.2.*,!=2.3.0,<3.0.0dev,>=1.31.5->google-cloud-storage->gcsfs<2024.0.0,>=2023.1.0->pinecone-datasets==0.5.0rc5) (1.59.0)\n",
            "Requirement already satisfied: google-crc32c<2.0dev,>=1.0 in /Users/roymiara/Pinecone/examples/.venv/lib/python3.9/site-packages (from google-resumable-media>=2.3.2->google-cloud-storage->gcsfs<2024.0.0,>=2023.1.0->pinecone-datasets==0.5.0rc5) (1.5.0)\n",
            "Requirement already satisfied: pyasn1<0.6.0,>=0.4.6 in /Users/roymiara/Pinecone/examples/.venv/lib/python3.9/site-packages (from pyasn1-modules>=0.2.1->google-auth>=1.2->gcsfs<2024.0.0,>=2023.1.0->pinecone-datasets==0.5.0rc5) (0.5.0)\n",
            "Requirement already satisfied: oauthlib>=3.0.0 in /Users/roymiara/Pinecone/examples/.venv/lib/python3.9/site-packages (from requests-oauthlib>=0.7.0->google-auth-oauthlib->gcsfs<2024.0.0,>=2023.1.0->pinecone-datasets==0.5.0rc5) (3.2.2)\n",
            "Installing collected packages: pinecone-datasets\n",
            "  Attempting uninstall: pinecone-datasets\n",
            "    Found existing installation: pinecone-datasets 0.5.0rc4\n",
            "    Uninstalling pinecone-datasets-0.5.0rc4:\n",
            "      Successfully uninstalled pinecone-datasets-0.5.0rc4\n",
            "Successfully installed pinecone-datasets-0.5.0rc5\n"
          ]
        }
      ],
      "source": [
        "!pip install -U \\\n",
        "  pinecone-datasets==0.5.0rc5 \\\n",
        "  datasets==2.12.0 \\\n",
        "  sentence-transformers==2.2.2"
      ]
    },
    {
      "attachments": {},
      "cell_type": "markdown",
      "metadata": {},
      "source": [
        "---\n",
        "\n",
        "🚨 _Note: the above `pip install` is formatted for Jupyter notebooks. If running elsewhere you may need to drop the `!`._\n",
        "\n",
        "---"
      ]
    },
    {
      "attachments": {},
      "cell_type": "markdown",
      "metadata": {
        "id": "hrSfFiIC5roI"
      },
      "source": [
        "## Data Preprocessing"
      ]
    },
    {
      "attachments": {},
      "cell_type": "markdown",
      "metadata": {
        "id": "kujS_e8s55oJ"
      },
      "source": [
        "The dataset preparation process requires a few steps:\n",
        "\n",
        "1. We download the Quora dataset from Hugging Face Datasets.\n",
        "\n",
        "2. The text content of the dataset is embedded into vectors.\n",
        "\n",
        "3. We create a Pinecone Dataset and save it.\n",
        "\n",
        "4. We upload the dataset to Pinecone.\n",
        "\n",
        "We will see how steps `1 - 4` are done in this section, but we won't implement `2` across the whole dataset until we reach the *upsert loop* as we will iteratively perform these two steps.\n",
        "\n",
        "In either case, this can take some time. If you'd rather skip the data preparation step and get straight to upserts and testing the semantic search functionality, you should \n",
        "refer to the [**fast notebook**](https://github.com/pinecone-io/examples/blob/master/search/semantic-search/semantic-search-fast.ipynb). The uses a premade dataset and is ready to go."
      ]
    },
    {
      "cell_type": "code",
      "execution_count": 2,
      "metadata": {
        "colab": {
          "base_uri": "https://localhost:8080/"
        },
        "id": "IeJPWu9P7EtR",
        "outputId": "2323c6b2-5feb-4601-e843-1dc04e272008"
      },
      "outputs": [
        {
          "name": "stderr",
          "output_type": "stream",
          "text": [
            "/Users/roymiara/Pinecone/examples/.venv/lib/python3.9/site-packages/tqdm/auto.py:21: TqdmWarning: IProgress not found. Please update jupyter and ipywidgets. See https://ipywidgets.readthedocs.io/en/stable/user_install.html\n",
            "  from .autonotebook import tqdm as notebook_tqdm\n",
            "Found cached dataset quora (/Users/roymiara/.cache/huggingface/datasets/quora/default/0.0.0/36ba4cd42107f051a158016f1bea6ae3f4685c5df843529108a54e42d86c1e04)\n"
          ]
        },
        {
          "data": {
            "text/plain": [
              "Dataset({\n",
              "    features: ['questions', 'is_duplicate'],\n",
              "    num_rows: 80000\n",
              "})"
            ]
          },
          "execution_count": 2,
          "metadata": {},
          "output_type": "execute_result"
        }
      ],
      "source": [
        "from datasets import load_dataset\n",
        "\n",
        "dataset = load_dataset('quora', split='train[240000:320000]')\n",
        "dataset"
      ]
    },
    {
      "attachments": {},
      "cell_type": "markdown",
      "metadata": {
        "id": "ngFHND1nQQU2"
      },
      "source": [
        "The dataset contains ~400K pairs of natural language questions from Quora."
      ]
    },
    {
      "cell_type": "code",
      "execution_count": 3,
      "metadata": {
        "colab": {
          "base_uri": "https://localhost:8080/"
        },
        "id": "CsA67WpW7El4",
        "outputId": "5b69152a-3809-453d-ae9e-0bddc66db2eb"
      },
      "outputs": [
        {
          "data": {
            "text/plain": [
              "{'questions': [{'id': [207550, 351729],\n",
              "   'text': ['What is the truth of life?', \"What's the evil truth of life?\"]},\n",
              "  {'id': [33183, 351730],\n",
              "   'text': ['Which is the best smartphone under 20K in India?',\n",
              "    'Which is the best smartphone with in 20k in India?']},\n",
              "  {'id': [351731, 351732],\n",
              "   'text': ['Steps taken by Canadian government to improve literacy rate?',\n",
              "    'Can I send homemade herbal hair oil from India to US via postal or private courier services?']},\n",
              "  {'id': [37799, 94186],\n",
              "   'text': ['What is a good way to lose 30 pounds in 2 months?',\n",
              "    'What can I do to lose 30 pounds in 2 months?']},\n",
              "  {'id': [351733, 351734],\n",
              "   'text': ['Which of the following most accurately describes the translation of the graph y = (x+3)^2 -2 to the graph of y = (x -2)^2 +2?',\n",
              "    'How do you graph x + 2y = -2?']}],\n",
              " 'is_duplicate': [False, True, False, True, False]}"
            ]
          },
          "execution_count": 3,
          "metadata": {},
          "output_type": "execute_result"
        }
      ],
      "source": [
        "dataset[:5]"
      ]
    },
    {
      "attachments": {},
      "cell_type": "markdown",
      "metadata": {
        "id": "H_Zy8zoeQmRZ"
      },
      "source": [
        "Whether or not the questions are duplicates is not so important, all we need for this example is the text itself. We can extract them all into a single `questions` list."
      ]
    },
    {
      "cell_type": "code",
      "execution_count": 4,
      "metadata": {
        "colab": {
          "base_uri": "https://localhost:8080/"
        },
        "id": "heGUpy_37Eis",
        "outputId": "a9b61af4-6595-44fc-bd35-7a7501b26123"
      },
      "outputs": [
        {
          "name": "stdout",
          "output_type": "stream",
          "text": [
            "Which Finance job requires traveling around the world?\n",
            "Does anyone use the Xyleme learning content management system?\n",
            "Which folder keeps the extension files of Google Chrome Portable Version?\n",
            "What are some good ways to lose weight?\n",
            "Can Health services research be a STEM major?\n",
            "136057\n"
          ]
        }
      ],
      "source": [
        "questions = []\n",
        "\n",
        "for record in dataset['questions']:\n",
        "    questions.extend(record['text'])\n",
        "  \n",
        "# remove duplicates\n",
        "questions = list(set(questions))\n",
        "print('\\n'.join(questions[:5]))\n",
        "print(len(questions))"
      ]
    },
    {
      "attachments": {},
      "cell_type": "markdown",
      "metadata": {
        "id": "4BknpfucRkkm"
      },
      "source": [
        "With our questions ready to go we can move on to demoing steps **2** and **3** above.\n",
        "\n",
        "### Building Embeddings\n",
        "\n",
        "To create our embeddings we will us the `MiniLM-L6` sentence transformer model. This is a very efficient semantic similarity embedding model from the `sentence-transformers` library. We initialize it like so:"
      ]
    },
    {
      "cell_type": "code",
      "execution_count": 5,
      "metadata": {
        "colab": {
          "base_uri": "https://localhost:8080/"
        },
        "id": "uxcGjb9GSEqA",
        "outputId": "e3b269d0-c7f4-41d8-85ad-5a94a0b79d8d"
      },
      "outputs": [
        {
          "name": "stdout",
          "output_type": "stream",
          "text": [
            "You are using cpu. This is much slower than using a CUDA-enabled GPU. If on Colab you can change this by clicking Runtime > Change runtime type > GPU.\n"
          ]
        },
        {
          "data": {
            "text/plain": [
              "SentenceTransformer(\n",
              "  (0): Transformer({'max_seq_length': 256, 'do_lower_case': False}) with Transformer model: BertModel \n",
              "  (1): Pooling({'word_embedding_dimension': 384, 'pooling_mode_cls_token': False, 'pooling_mode_mean_tokens': True, 'pooling_mode_max_tokens': False, 'pooling_mode_mean_sqrt_len_tokens': False})\n",
              "  (2): Normalize()\n",
              ")"
            ]
          },
          "execution_count": 5,
          "metadata": {},
          "output_type": "execute_result"
        }
      ],
      "source": [
        "from sentence_transformers import SentenceTransformer\n",
        "import torch\n",
        "\n",
        "device = 'cuda' if torch.cuda.is_available() else 'cpu'\n",
        "if device != 'cuda':\n",
        "    print(f\"You are using {device}. This is much slower than using \"\n",
        "          \"a CUDA-enabled GPU. If on Colab you can change this by \"\n",
        "          \"clicking Runtime > Change runtime type > GPU.\")\n",
        "\n",
        "model = SentenceTransformer('all-MiniLM-L6-v2', device=device)\n",
        "model"
      ]
    },
    {
      "attachments": {},
      "cell_type": "markdown",
      "metadata": {
        "id": "iy2itPb0S5js"
      },
      "source": [
        "There are *three* interesting bits of information in the above model printout. Those are:\n",
        "\n",
        "* `max_seq_length` is `256`. That means that the maximum number of tokens (like words) that can be encoded into a single vector embedding is `256`. Anything beyond this *must* be truncated.\n",
        "\n",
        "* `word_embedding_dimension` is `384`. This number is the dimensionality of vectors output by this model. It is important that we know this number later when initializing our Pinecone vector index.\n",
        "\n",
        "* `Normalize()`. This final normalization step indicates that all vectors produced by the model are normalized. That means that models that we would typical measure similarity for using *cosine similarity* can also make use of the *dotproduct* similarity metric. In fact, with normalized vectors *cosine* and *dotproduct* are equivalent.\n",
        "\n",
        "Moving on, we can create a sentence embedding using this model like so:"
      ]
    },
    {
      "cell_type": "code",
      "execution_count": 6,
      "metadata": {
        "colab": {
          "base_uri": "https://localhost:8080/"
        },
        "id": "dyzoJEsAULOe",
        "outputId": "a1ea6149-4b2d-4dfb-e984-b067fb9980d5"
      },
      "outputs": [
        {
          "data": {
            "text/plain": [
              "(384,)"
            ]
          },
          "execution_count": 6,
          "metadata": {},
          "output_type": "execute_result"
        }
      ],
      "source": [
        "query = 'which city is the most populated in the world?'\n",
        "\n",
        "xq = model.encode(query)\n",
        "xq.shape"
      ]
    },
    {
      "attachments": {},
      "cell_type": "markdown",
      "metadata": {
        "id": "qVZi8xevUWM6"
      },
      "source": [
        "Encoding this single sentence leaves us with a `384` dimensional sentence embedding (aligned to the `word_embedding_dimension` above).\n",
        "\n",
        "To prepare this for `upsert` to Pinecone, all we do is this:"
      ]
    },
    {
      "attachments": {},
      "cell_type": "markdown",
      "metadata": {
        "id": "wiXig_rHV2Wz"
      },
      "source": [
        "Later when we do upsert our data to Pinecone, we will be doing so in batches. Meaning `vectors` will be a list of `(id, embedding, metadata)` tuples."
      ]
    },
    {
      "attachments": {},
      "cell_type": "markdown",
      "metadata": {
        "id": "YUd1VGg6i108"
      },
      "source": [
        "Now we upsert the data, we will do this in batches of `128`.\n",
        "\n",
        "_**Note:** On Google Colab with GPU expected runtime is ~7 minutes. If using CPU this will be significantly longer. If you'd like to get this running faster refer to the [fast notebook](https://github.com/pinecone-io/examples/blob/master/search/semantic-search/semantic-search-fast.ipynb)._"
      ]
    },
    {
      "cell_type": "code",
      "execution_count": 7,
      "metadata": {},
      "outputs": [],
      "source": [
        "# first create list for ids, embeddings and metadata\n",
        "ids = []\n",
        "embeddings = []\n",
        "metadata = []\n",
        "\n",
        "batch_size = 128\n"
      ]
    },
    {
      "cell_type": "code",
      "execution_count": 8,
      "metadata": {
        "colab": {
          "base_uri": "https://localhost:8080/",
          "height": 120,
          "referenced_widgets": [
            "0e5dc9a271184100a92cd6b373ab8e7d",
            "8396bfd36c2b4869a0b4680587b604f1",
            "d714f8b3ebca4195b747ab18d196b88b",
            "56266bc7062541f5ba042848205270ef",
            "78fab28034dd428c9f49a5653fd003e5",
            "d8ca1c42783f41a8bd17491073883fdd",
            "cffd5e66b82344b0946630eb320ca5b4",
            "b63c0eee680f4708a4c68a4746cb21a4",
            "12e8c994f3ac4f88ae5387c72b4d8cc7",
            "9ea70e9ea5fb4040a080b941950b0fef",
            "b30a98ddfc1841e381937571edcfae71"
          ]
        },
        "id": "RhR6WOi1huXZ",
        "outputId": "ef9f74ef-2ae3-4eb3-cef4-6814e98861a7"
      },
      "outputs": [
        {
          "name": "stderr",
          "output_type": "stream",
          "text": [
            "100%|██████████| 8/8 [00:02<00:00,  3.77it/s]\n"
          ]
        }
      ],
      "source": [
        "from tqdm.auto import tqdm\n",
        "\n",
        "# note doing it on 1000 questiosn \n",
        "for i in tqdm(range(0, len(questions[:1024]), batch_size)):\n",
        "    # find end of batch\n",
        "    i_end = min(i+batch_size, len(questions))\n",
        "    # create IDs batch\n",
        "    _ids = [str(x) for x in range(i, i_end)]\n",
        "    # create metadata batch\n",
        "    _metadata = [{'text': text} for text in questions[i:i_end]]\n",
        "    # create embeddings\n",
        "    _embeddings = model.encode(questions[i:i_end])\n",
        "    # create records list for upsert\n",
        "\n",
        "    ids.extend(_ids)\n",
        "    embeddings.extend(_embeddings)\n",
        "    metadata.extend(_metadata)"
      ]
    },
    {
      "cell_type": "code",
      "execution_count": 9,
      "metadata": {},
      "outputs": [
        {
          "data": {
            "text/html": [
              "<div>\n",
              "<style scoped>\n",
              "    .dataframe tbody tr th:only-of-type {\n",
              "        vertical-align: middle;\n",
              "    }\n",
              "\n",
              "    .dataframe tbody tr th {\n",
              "        vertical-align: top;\n",
              "    }\n",
              "\n",
              "    .dataframe thead th {\n",
              "        text-align: right;\n",
              "    }\n",
              "</style>\n",
              "<table border=\"1\" class=\"dataframe\">\n",
              "  <thead>\n",
              "    <tr style=\"text-align: right;\">\n",
              "      <th></th>\n",
              "      <th>id</th>\n",
              "      <th>values</th>\n",
              "      <th>metadata</th>\n",
              "    </tr>\n",
              "  </thead>\n",
              "  <tbody>\n",
              "    <tr>\n",
              "      <th>0</th>\n",
              "      <td>0</td>\n",
              "      <td>[0.06995727, -0.041538, -0.07480858, 0.0554511...</td>\n",
              "      <td>{'text': 'Which Finance job requires traveling...</td>\n",
              "    </tr>\n",
              "    <tr>\n",
              "      <th>1</th>\n",
              "      <td>1</td>\n",
              "      <td>[0.020836761, -0.055749647, -0.06341955, 0.042...</td>\n",
              "      <td>{'text': 'Does anyone use the Xyleme learning ...</td>\n",
              "    </tr>\n",
              "    <tr>\n",
              "      <th>2</th>\n",
              "      <td>2</td>\n",
              "      <td>[-0.048633844, -0.011845093, 0.005464233, 0.00...</td>\n",
              "      <td>{'text': 'Which folder keeps the extension fil...</td>\n",
              "    </tr>\n",
              "    <tr>\n",
              "      <th>3</th>\n",
              "      <td>3</td>\n",
              "      <td>[-0.07174875, 0.07797023, 0.056134596, 0.12874...</td>\n",
              "      <td>{'text': 'What are some good ways to lose weig...</td>\n",
              "    </tr>\n",
              "    <tr>\n",
              "      <th>4</th>\n",
              "      <td>4</td>\n",
              "      <td>[-0.01627545, 0.070892945, -0.0010130059, -0.0...</td>\n",
              "      <td>{'text': 'Can Health services research be a ST...</td>\n",
              "    </tr>\n",
              "    <tr>\n",
              "      <th>...</th>\n",
              "      <td>...</td>\n",
              "      <td>...</td>\n",
              "      <td>...</td>\n",
              "    </tr>\n",
              "    <tr>\n",
              "      <th>1019</th>\n",
              "      <td>1019</td>\n",
              "      <td>[0.063618615, 0.016510956, 0.04254935, 0.01624...</td>\n",
              "      <td>{'text': 'Should I prepare &amp; crack CAT by leav...</td>\n",
              "    </tr>\n",
              "    <tr>\n",
              "      <th>1020</th>\n",
              "      <td>1020</td>\n",
              "      <td>[0.029550772, 0.047756128, -0.028292943, -0.03...</td>\n",
              "      <td>{'text': 'Why are Europe and Asia separate con...</td>\n",
              "    </tr>\n",
              "    <tr>\n",
              "      <th>1021</th>\n",
              "      <td>1021</td>\n",
              "      <td>[0.0754963, -0.10504479, 0.0089978445, 0.05468...</td>\n",
              "      <td>{'text': 'Who is the most beautiful and glamor...</td>\n",
              "    </tr>\n",
              "    <tr>\n",
              "      <th>1022</th>\n",
              "      <td>1022</td>\n",
              "      <td>[-0.009103978, -0.07920409, 0.065698035, -0.04...</td>\n",
              "      <td>{'text': 'What are the major factors that moti...</td>\n",
              "    </tr>\n",
              "    <tr>\n",
              "      <th>1023</th>\n",
              "      <td>1023</td>\n",
              "      <td>[0.024876645, 0.0046750004, -0.010520815, 0.00...</td>\n",
              "      <td>{'text': 'How can I improve my math skills for...</td>\n",
              "    </tr>\n",
              "  </tbody>\n",
              "</table>\n",
              "<p>1024 rows × 3 columns</p>\n",
              "</div>"
            ],
            "text/plain": [
              "        id                                             values  \\\n",
              "0        0  [0.06995727, -0.041538, -0.07480858, 0.0554511...   \n",
              "1        1  [0.020836761, -0.055749647, -0.06341955, 0.042...   \n",
              "2        2  [-0.048633844, -0.011845093, 0.005464233, 0.00...   \n",
              "3        3  [-0.07174875, 0.07797023, 0.056134596, 0.12874...   \n",
              "4        4  [-0.01627545, 0.070892945, -0.0010130059, -0.0...   \n",
              "...    ...                                                ...   \n",
              "1019  1019  [0.063618615, 0.016510956, 0.04254935, 0.01624...   \n",
              "1020  1020  [0.029550772, 0.047756128, -0.028292943, -0.03...   \n",
              "1021  1021  [0.0754963, -0.10504479, 0.0089978445, 0.05468...   \n",
              "1022  1022  [-0.009103978, -0.07920409, 0.065698035, -0.04...   \n",
              "1023  1023  [0.024876645, 0.0046750004, -0.010520815, 0.00...   \n",
              "\n",
              "                                               metadata  \n",
              "0     {'text': 'Which Finance job requires traveling...  \n",
              "1     {'text': 'Does anyone use the Xyleme learning ...  \n",
              "2     {'text': 'Which folder keeps the extension fil...  \n",
              "3     {'text': 'What are some good ways to lose weig...  \n",
              "4     {'text': 'Can Health services research be a ST...  \n",
              "...                                                 ...  \n",
              "1019  {'text': 'Should I prepare & crack CAT by leav...  \n",
              "1020  {'text': 'Why are Europe and Asia separate con...  \n",
              "1021  {'text': 'Who is the most beautiful and glamor...  \n",
              "1022  {'text': 'What are the major factors that moti...  \n",
              "1023  {'text': 'How can I improve my math skills for...  \n",
              "\n",
              "[1024 rows x 3 columns]"
            ]
          },
          "execution_count": 9,
          "metadata": {},
          "output_type": "execute_result"
        }
      ],
      "source": [
        "# creating a dataframe\n",
        "import pandas as pd\n",
        "\n",
        "df = pd.DataFrame({'id': ids, 'values': embeddings, 'metadata': metadata})\n",
        "df"
      ]
    },
    {
      "cell_type": "code",
      "execution_count": 29,
      "metadata": {},
      "outputs": [],
      "source": [
        "# Creating a Pinecone dataset\n",
        "from pinecone_datasets import Dataset as PineconeDataset, DatasetMetadata"
      ]
    },
    {
      "cell_type": "code",
      "execution_count": 30,
      "metadata": {},
      "outputs": [],
      "source": [
        "dataset_metadata = DatasetMetadata(\n",
        "    **{\n",
        "        'name': 'quora_all-MiniLM-L6-bm25',\n",
        "        'created_at': '2023-02-17 14:17:01.481785',\n",
        "        'documents': 522931,\n",
        "        'queries': 0,\n",
        "        'source': 'https://quoradata.quora.com/First-Quora-Dataset-Release-Question-Pairs',\n",
        "        'license': None,\n",
        "        'bucket': 'gs://pinecone-datasets-dev',\n",
        "        'task': 'similar questions',\n",
        "        'dense_model': {\n",
        "            'name': 'sentence-transformers/all-MiniLM-L6-v2',\n",
        "            'tokenizer': None,\n",
        "            'dimension': 384\n",
        "        },\n",
        "        'sparse_model': None,\n",
        "        'description': None,\n",
        "        'tags': None,\n",
        "        'args': None\n",
        "    })"
      ]
    },
    {
      "cell_type": "code",
      "execution_count": 44,
      "metadata": {},
      "outputs": [],
      "source": [
        "pds = PineconeDataset.from_pandas(df, metadata=dataset_metadata)"
      ]
    },
    {
      "cell_type": "code",
      "execution_count": 45,
      "metadata": {},
      "outputs": [
        {
          "data": {
            "text/html": [
              "<div>\n",
              "<style scoped>\n",
              "    .dataframe tbody tr th:only-of-type {\n",
              "        vertical-align: middle;\n",
              "    }\n",
              "\n",
              "    .dataframe tbody tr th {\n",
              "        vertical-align: top;\n",
              "    }\n",
              "\n",
              "    .dataframe thead th {\n",
              "        text-align: right;\n",
              "    }\n",
              "</style>\n",
              "<table border=\"1\" class=\"dataframe\">\n",
              "  <thead>\n",
              "    <tr style=\"text-align: right;\">\n",
              "      <th></th>\n",
              "      <th>id</th>\n",
              "      <th>values</th>\n",
              "      <th>sparse_values</th>\n",
              "      <th>metadata</th>\n",
              "      <th>blob</th>\n",
              "    </tr>\n",
              "  </thead>\n",
              "  <tbody>\n",
              "    <tr>\n",
              "      <th>0</th>\n",
              "      <td>0</td>\n",
              "      <td>[0.06995727, -0.041538, -0.07480858, 0.0554511...</td>\n",
              "      <td>None</td>\n",
              "      <td>{'text': 'Which Finance job requires traveling...</td>\n",
              "      <td>None</td>\n",
              "    </tr>\n",
              "    <tr>\n",
              "      <th>1</th>\n",
              "      <td>1</td>\n",
              "      <td>[0.020836761, -0.055749647, -0.06341955, 0.042...</td>\n",
              "      <td>None</td>\n",
              "      <td>{'text': 'Does anyone use the Xyleme learning ...</td>\n",
              "      <td>None</td>\n",
              "    </tr>\n",
              "    <tr>\n",
              "      <th>2</th>\n",
              "      <td>2</td>\n",
              "      <td>[-0.048633844, -0.011845093, 0.005464233, 0.00...</td>\n",
              "      <td>None</td>\n",
              "      <td>{'text': 'Which folder keeps the extension fil...</td>\n",
              "      <td>None</td>\n",
              "    </tr>\n",
              "    <tr>\n",
              "      <th>3</th>\n",
              "      <td>3</td>\n",
              "      <td>[-0.07174875, 0.07797023, 0.056134596, 0.12874...</td>\n",
              "      <td>None</td>\n",
              "      <td>{'text': 'What are some good ways to lose weig...</td>\n",
              "      <td>None</td>\n",
              "    </tr>\n",
              "    <tr>\n",
              "      <th>4</th>\n",
              "      <td>4</td>\n",
              "      <td>[-0.01627545, 0.070892945, -0.0010130059, -0.0...</td>\n",
              "      <td>None</td>\n",
              "      <td>{'text': 'Can Health services research be a ST...</td>\n",
              "      <td>None</td>\n",
              "    </tr>\n",
              "  </tbody>\n",
              "</table>\n",
              "</div>"
            ],
            "text/plain": [
              "  id                                             values sparse_values  \\\n",
              "0  0  [0.06995727, -0.041538, -0.07480858, 0.0554511...          None   \n",
              "1  1  [0.020836761, -0.055749647, -0.06341955, 0.042...          None   \n",
              "2  2  [-0.048633844, -0.011845093, 0.005464233, 0.00...          None   \n",
              "3  3  [-0.07174875, 0.07797023, 0.056134596, 0.12874...          None   \n",
              "4  4  [-0.01627545, 0.070892945, -0.0010130059, -0.0...          None   \n",
              "\n",
              "                                            metadata  blob  \n",
              "0  {'text': 'Which Finance job requires traveling...  None  \n",
              "1  {'text': 'Does anyone use the Xyleme learning ...  None  \n",
              "2  {'text': 'Which folder keeps the extension fil...  None  \n",
              "3  {'text': 'What are some good ways to lose weig...  None  \n",
              "4  {'text': 'Can Health services research be a ST...  None  "
            ]
          },
          "execution_count": 45,
          "metadata": {},
          "output_type": "execute_result"
        }
      ],
      "source": [
        "pds.head()"
      ]
    },
    {
      "cell_type": "code",
      "execution_count": 33,
      "metadata": {},
      "outputs": [
        {
          "name": "stderr",
          "output_type": "stream",
          "text": [
            "/Users/roymiara/Pinecone/examples/.venv/lib/python3.9/site-packages/pinecone_datasets/dataset.py:323: UserWarning: Queries are empty, not saving queries\n",
            "  warnings.warn(\"Queries are empty, not saving queries\")\n"
          ]
        }
      ],
      "source": [
        "# saving dataset for later\n",
        "pds.to_path('./tmp/quora_all-MiniLM-L6-bm25')"
      ]
    },
    {
      "cell_type": "code",
      "execution_count": 46,
      "metadata": {},
      "outputs": [
        {
          "name": "stderr",
          "output_type": "stream",
          "text": [
            "/Users/roymiara/Pinecone/examples/.venv/lib/python3.9/site-packages/pinecone_datasets/dataset.py:444: RuntimeWarning: coroutine 'Dataset._async_upsert' was never awaited\n",
            "  self._async_upsert(\n",
            "RuntimeWarning: Enable tracemalloc to get the object allocation traceback\n"
          ]
        }
      ],
      "source": [
        "# upserting datsaet to Pinecone\n",
        "import os\n",
        "os.environ[\"PINECONE_API_KEY\"] = \"a91ac336-1d39-4085-a28d-2c675a1aefce\"\n",
        "os.environ[\"PINECONE_ENVIRONMENT\"] = \"us-west1-gcp\"\n",
        "\n",
        "pds.to_index(\"semantic-search\", batch_size=300, concurrency=16)"
      ]
    },
    {
      "attachments": {},
      "cell_type": "markdown",
      "metadata": {
        "id": "PMMJSu_DbRx0"
      },
      "source": [
        "---"
      ]
    }
  ],
  "metadata": {
    "accelerator": "GPU",
    "colab": {
      "gpuType": "T4",
      "provenance": []
    },
    "gpuClass": "standard",
    "kernelspec": {
      "display_name": "Python 3",
      "name": "python3"
    },
    "language_info": {
      "codemirror_mode": {
        "name": "ipython",
        "version": 3
      },
      "file_extension": ".py",
      "mimetype": "text/x-python",
      "name": "python",
      "nbconvert_exporter": "python",
      "pygments_lexer": "ipython3",
      "version": "3.11.2"
    },
    "widgets": {
      "application/vnd.jupyter.widget-state+json": {
        "0e5dc9a271184100a92cd6b373ab8e7d": {
          "model_module": "@jupyter-widgets/controls",
          "model_module_version": "1.5.0",
          "model_name": "HBoxModel",
          "state": {
            "_dom_classes": [],
            "_model_module": "@jupyter-widgets/controls",
            "_model_module_version": "1.5.0",
            "_model_name": "HBoxModel",
            "_view_count": null,
            "_view_module": "@jupyter-widgets/controls",
            "_view_module_version": "1.5.0",
            "_view_name": "HBoxView",
            "box_style": "",
            "children": [
              "IPY_MODEL_8396bfd36c2b4869a0b4680587b604f1",
              "IPY_MODEL_d714f8b3ebca4195b747ab18d196b88b",
              "IPY_MODEL_56266bc7062541f5ba042848205270ef"
            ],
            "layout": "IPY_MODEL_78fab28034dd428c9f49a5653fd003e5"
          }
        },
        "12e8c994f3ac4f88ae5387c72b4d8cc7": {
          "model_module": "@jupyter-widgets/controls",
          "model_module_version": "1.5.0",
          "model_name": "ProgressStyleModel",
          "state": {
            "_model_module": "@jupyter-widgets/controls",
            "_model_module_version": "1.5.0",
            "_model_name": "ProgressStyleModel",
            "_view_count": null,
            "_view_module": "@jupyter-widgets/base",
            "_view_module_version": "1.2.0",
            "_view_name": "StyleView",
            "bar_color": null,
            "description_width": ""
          }
        },
        "56266bc7062541f5ba042848205270ef": {
          "model_module": "@jupyter-widgets/controls",
          "model_module_version": "1.5.0",
          "model_name": "HTMLModel",
          "state": {
            "_dom_classes": [],
            "_model_module": "@jupyter-widgets/controls",
            "_model_module_version": "1.5.0",
            "_model_name": "HTMLModel",
            "_view_count": null,
            "_view_module": "@jupyter-widgets/controls",
            "_view_module_version": "1.5.0",
            "_view_name": "HTMLView",
            "description": "",
            "description_tooltip": null,
            "layout": "IPY_MODEL_9ea70e9ea5fb4040a080b941950b0fef",
            "placeholder": "​",
            "style": "IPY_MODEL_b30a98ddfc1841e381937571edcfae71",
            "value": " 1063/1063 [02:48&lt;00:00,  6.41it/s]"
          }
        },
        "78fab28034dd428c9f49a5653fd003e5": {
          "model_module": "@jupyter-widgets/base",
          "model_module_version": "1.2.0",
          "model_name": "LayoutModel",
          "state": {
            "_model_module": "@jupyter-widgets/base",
            "_model_module_version": "1.2.0",
            "_model_name": "LayoutModel",
            "_view_count": null,
            "_view_module": "@jupyter-widgets/base",
            "_view_module_version": "1.2.0",
            "_view_name": "LayoutView",
            "align_content": null,
            "align_items": null,
            "align_self": null,
            "border": null,
            "bottom": null,
            "display": null,
            "flex": null,
            "flex_flow": null,
            "grid_area": null,
            "grid_auto_columns": null,
            "grid_auto_flow": null,
            "grid_auto_rows": null,
            "grid_column": null,
            "grid_gap": null,
            "grid_row": null,
            "grid_template_areas": null,
            "grid_template_columns": null,
            "grid_template_rows": null,
            "height": null,
            "justify_content": null,
            "justify_items": null,
            "left": null,
            "margin": null,
            "max_height": null,
            "max_width": null,
            "min_height": null,
            "min_width": null,
            "object_fit": null,
            "object_position": null,
            "order": null,
            "overflow": null,
            "overflow_x": null,
            "overflow_y": null,
            "padding": null,
            "right": null,
            "top": null,
            "visibility": null,
            "width": null
          }
        },
        "8396bfd36c2b4869a0b4680587b604f1": {
          "model_module": "@jupyter-widgets/controls",
          "model_module_version": "1.5.0",
          "model_name": "HTMLModel",
          "state": {
            "_dom_classes": [],
            "_model_module": "@jupyter-widgets/controls",
            "_model_module_version": "1.5.0",
            "_model_name": "HTMLModel",
            "_view_count": null,
            "_view_module": "@jupyter-widgets/controls",
            "_view_module_version": "1.5.0",
            "_view_name": "HTMLView",
            "description": "",
            "description_tooltip": null,
            "layout": "IPY_MODEL_d8ca1c42783f41a8bd17491073883fdd",
            "placeholder": "​",
            "style": "IPY_MODEL_cffd5e66b82344b0946630eb320ca5b4",
            "value": "100%"
          }
        },
        "9ea70e9ea5fb4040a080b941950b0fef": {
          "model_module": "@jupyter-widgets/base",
          "model_module_version": "1.2.0",
          "model_name": "LayoutModel",
          "state": {
            "_model_module": "@jupyter-widgets/base",
            "_model_module_version": "1.2.0",
            "_model_name": "LayoutModel",
            "_view_count": null,
            "_view_module": "@jupyter-widgets/base",
            "_view_module_version": "1.2.0",
            "_view_name": "LayoutView",
            "align_content": null,
            "align_items": null,
            "align_self": null,
            "border": null,
            "bottom": null,
            "display": null,
            "flex": null,
            "flex_flow": null,
            "grid_area": null,
            "grid_auto_columns": null,
            "grid_auto_flow": null,
            "grid_auto_rows": null,
            "grid_column": null,
            "grid_gap": null,
            "grid_row": null,
            "grid_template_areas": null,
            "grid_template_columns": null,
            "grid_template_rows": null,
            "height": null,
            "justify_content": null,
            "justify_items": null,
            "left": null,
            "margin": null,
            "max_height": null,
            "max_width": null,
            "min_height": null,
            "min_width": null,
            "object_fit": null,
            "object_position": null,
            "order": null,
            "overflow": null,
            "overflow_x": null,
            "overflow_y": null,
            "padding": null,
            "right": null,
            "top": null,
            "visibility": null,
            "width": null
          }
        },
        "b30a98ddfc1841e381937571edcfae71": {
          "model_module": "@jupyter-widgets/controls",
          "model_module_version": "1.5.0",
          "model_name": "DescriptionStyleModel",
          "state": {
            "_model_module": "@jupyter-widgets/controls",
            "_model_module_version": "1.5.0",
            "_model_name": "DescriptionStyleModel",
            "_view_count": null,
            "_view_module": "@jupyter-widgets/base",
            "_view_module_version": "1.2.0",
            "_view_name": "StyleView",
            "description_width": ""
          }
        },
        "b63c0eee680f4708a4c68a4746cb21a4": {
          "model_module": "@jupyter-widgets/base",
          "model_module_version": "1.2.0",
          "model_name": "LayoutModel",
          "state": {
            "_model_module": "@jupyter-widgets/base",
            "_model_module_version": "1.2.0",
            "_model_name": "LayoutModel",
            "_view_count": null,
            "_view_module": "@jupyter-widgets/base",
            "_view_module_version": "1.2.0",
            "_view_name": "LayoutView",
            "align_content": null,
            "align_items": null,
            "align_self": null,
            "border": null,
            "bottom": null,
            "display": null,
            "flex": null,
            "flex_flow": null,
            "grid_area": null,
            "grid_auto_columns": null,
            "grid_auto_flow": null,
            "grid_auto_rows": null,
            "grid_column": null,
            "grid_gap": null,
            "grid_row": null,
            "grid_template_areas": null,
            "grid_template_columns": null,
            "grid_template_rows": null,
            "height": null,
            "justify_content": null,
            "justify_items": null,
            "left": null,
            "margin": null,
            "max_height": null,
            "max_width": null,
            "min_height": null,
            "min_width": null,
            "object_fit": null,
            "object_position": null,
            "order": null,
            "overflow": null,
            "overflow_x": null,
            "overflow_y": null,
            "padding": null,
            "right": null,
            "top": null,
            "visibility": null,
            "width": null
          }
        },
        "cffd5e66b82344b0946630eb320ca5b4": {
          "model_module": "@jupyter-widgets/controls",
          "model_module_version": "1.5.0",
          "model_name": "DescriptionStyleModel",
          "state": {
            "_model_module": "@jupyter-widgets/controls",
            "_model_module_version": "1.5.0",
            "_model_name": "DescriptionStyleModel",
            "_view_count": null,
            "_view_module": "@jupyter-widgets/base",
            "_view_module_version": "1.2.0",
            "_view_name": "StyleView",
            "description_width": ""
          }
        },
        "d714f8b3ebca4195b747ab18d196b88b": {
          "model_module": "@jupyter-widgets/controls",
          "model_module_version": "1.5.0",
          "model_name": "FloatProgressModel",
          "state": {
            "_dom_classes": [],
            "_model_module": "@jupyter-widgets/controls",
            "_model_module_version": "1.5.0",
            "_model_name": "FloatProgressModel",
            "_view_count": null,
            "_view_module": "@jupyter-widgets/controls",
            "_view_module_version": "1.5.0",
            "_view_name": "ProgressView",
            "bar_style": "success",
            "description": "",
            "description_tooltip": null,
            "layout": "IPY_MODEL_b63c0eee680f4708a4c68a4746cb21a4",
            "max": 1063,
            "min": 0,
            "orientation": "horizontal",
            "style": "IPY_MODEL_12e8c994f3ac4f88ae5387c72b4d8cc7",
            "value": 1063
          }
        },
        "d8ca1c42783f41a8bd17491073883fdd": {
          "model_module": "@jupyter-widgets/base",
          "model_module_version": "1.2.0",
          "model_name": "LayoutModel",
          "state": {
            "_model_module": "@jupyter-widgets/base",
            "_model_module_version": "1.2.0",
            "_model_name": "LayoutModel",
            "_view_count": null,
            "_view_module": "@jupyter-widgets/base",
            "_view_module_version": "1.2.0",
            "_view_name": "LayoutView",
            "align_content": null,
            "align_items": null,
            "align_self": null,
            "border": null,
            "bottom": null,
            "display": null,
            "flex": null,
            "flex_flow": null,
            "grid_area": null,
            "grid_auto_columns": null,
            "grid_auto_flow": null,
            "grid_auto_rows": null,
            "grid_column": null,
            "grid_gap": null,
            "grid_row": null,
            "grid_template_areas": null,
            "grid_template_columns": null,
            "grid_template_rows": null,
            "height": null,
            "justify_content": null,
            "justify_items": null,
            "left": null,
            "margin": null,
            "max_height": null,
            "max_width": null,
            "min_height": null,
            "min_width": null,
            "object_fit": null,
            "object_position": null,
            "order": null,
            "overflow": null,
            "overflow_x": null,
            "overflow_y": null,
            "padding": null,
            "right": null,
            "top": null,
            "visibility": null,
            "width": null
          }
        }
      }
    }
  },
  "nbformat": 4,
  "nbformat_minor": 0
}
